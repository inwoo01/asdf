{
  "nbformat": 4,
  "nbformat_minor": 0,
  "metadata": {
    "colab": {
      "provenance": [],
      "gpuType": "T4",
      "authorship_tag": "ABX9TyPdjXIt/AAN6hV7yaJF6EcJ",
      "include_colab_link": true
    },
    "kernelspec": {
      "name": "python3",
      "display_name": "Python 3"
    },
    "language_info": {
      "name": "python"
    },
    "accelerator": "GPU"
  },
  "cells": [
    {
      "cell_type": "markdown",
      "metadata": {
        "id": "view-in-github",
        "colab_type": "text"
      },
      "source": [
        "<a href=\"https://colab.research.google.com/github/inwoo01/asdf/blob/main/inwoo240313.ipynb\" target=\"_parent\"><img src=\"https://colab.research.google.com/assets/colab-badge.svg\" alt=\"Open In Colab\"/></a>"
      ]
    },
    {
      "cell_type": "code",
      "execution_count": null,
      "metadata": {
        "colab": {
          "base_uri": "https://localhost:8080/"
        },
        "id": "R8jpCa2iRyd-",
        "outputId": "e83923ff-c724-4c35-d5ad-4b72c12228cd"
      },
      "outputs": [
        {
          "output_type": "stream",
          "name": "stdout",
          "text": [
            "Hello, World!\n",
            "정수: 3, 03, 003, 0003, 00003\n",
            "실수: 256, 256.1, 256.12\n",
            "문자열: [Hello, World!]\n"
          ]
        }
      ],
      "source": [
        "# prompt: print(\"Hello, World!\")\n",
        "\n",
        "print(\"Hello, World!\")\n",
        "\n",
        "# integer\n",
        "x = 3\n",
        "print (\"정수: %01d, %02d, %03d, %04d, %05d\"\n",
        "        %(x,x,x,x,x))\n",
        "\n",
        "# float\n",
        "x = 256.123\n",
        "print (\"실수: %.0f, %.1f, %.2f\"\n",
        "        %(x,x,x))\n",
        "\n",
        "#string\n",
        "x = \"Hello, World!\"\n",
        "print (\"문자열: [%s]\" % (x))"
      ]
    },
    {
      "cell_type": "code",
      "source": [
        "contents = [\"Regression\", \"Classification\", \"SYM\", \"Clustering\", \"Dimension reduction\",\n",
        "            \"NN\",\"CNN\", \"AE\", \"GAN\", \"RNN\"]\n",
        "for con in contents:\n",
        "  if con in [\"Regression\", \"Classification\", \"SYM\", \"Clustering\", \"Dimension reduction\"]:\n",
        "    print (\"%s 은(는) 기계학습 내용입니다.\" %con)\n",
        "  elif con in [\"CNN\"]:\n",
        "    print (\"%s 은(는) convolutional neural network 입니다.\" %con)\n",
        "  else:\n",
        "    print (\"%s 은(는) 심층학습 내용입니다.\" %con)\n",
        "\n",
        "for (i,con) in enumerate(contents):\n",
        "  print (\"[%d/%d]: %s\" %(i, len(contents),con))"
      ],
      "metadata": {
        "id": "W6xo9EC0TSaS",
        "colab": {
          "base_uri": "https://localhost:8080/"
        },
        "outputId": "8a27b00b-e4ff-45f9-fc77-94073ef0c768"
      },
      "execution_count": null,
      "outputs": [
        {
          "output_type": "stream",
          "name": "stdout",
          "text": [
            "Regression 은(는) 기계학습 내용입니다.\n",
            "Classification 은(는) 기계학습 내용입니다.\n",
            "SYM 은(는) 기계학습 내용입니다.\n",
            "Clustering 은(는) 기계학습 내용입니다.\n",
            "Dimension reduction 은(는) 기계학습 내용입니다.\n",
            "NN 은(는) 심층학습 내용입니다.\n",
            "CNN 은(는) convolutional neural network 입니다.\n",
            "AE 은(는) 심층학습 내용입니다.\n",
            "GAN 은(는) 심층학습 내용입니다.\n",
            "RNN 은(는) 심층학습 내용입니다.\n",
            "[0/10]: Regression\n",
            "[1/10]: Classification\n",
            "[2/10]: SYM\n",
            "[3/10]: Clustering\n",
            "[4/10]: Dimension reduction\n",
            "[5/10]: NN\n",
            "[6/10]: CNN\n",
            "[7/10]: AE\n",
            "[8/10]: GAN\n",
            "[9/10]: RNN\n"
          ]
        }
      ]
    },
    {
      "cell_type": "code",
      "source": [
        "def sum(a,b):\n",
        "  return a+b\n",
        "\n",
        "x=10.0\n",
        "y=20.0\n",
        "print (\"%.1f + %.1f = %.1f\" %(x,y,sum(x,y)))"
      ],
      "metadata": {
        "id": "DSz84TODTBs3",
        "colab": {
          "base_uri": "https://localhost:8080/"
        },
        "outputId": "47bddd85-e2ee-48d4-b457-1b1af8cab648"
      },
      "execution_count": null,
      "outputs": [
        {
          "output_type": "stream",
          "name": "stdout",
          "text": [
            "10.0 + 20.0 = 30.0\n"
          ]
        }
      ]
    },
    {
      "cell_type": "code",
      "source": [
        "a=[]\n",
        "b=[1,2,3]\n",
        "c=[\"Hello\", \",\",\"world\"]\n",
        "d=[1,2,3,\"x\",\"y\",\"z\"]\n",
        "x=[]\n",
        "print (x)\n",
        "\n",
        "x.append('a')\n",
        "print (x)\n",
        "\n",
        "x.append(123)\n",
        "print (x)\n",
        "\n",
        "x.append([\"a\",\"b\"])\n",
        "print (x)\n"
      ],
      "metadata": {
        "colab": {
          "base_uri": "https://localhost:8080/"
        },
        "id": "PrpQbNCZawo5",
        "outputId": "a786c29a-e1ed-4465-a9ea-17e348a8f36a"
      },
      "execution_count": null,
      "outputs": [
        {
          "output_type": "stream",
          "name": "stdout",
          "text": [
            "[]\n",
            "['a']\n",
            "['a', 123]\n",
            "['a', 123, ['a', 'b']]\n"
          ]
        }
      ]
    },
    {
      "cell_type": "code",
      "source": [
        "dic = dict()\n",
        "dic[\"name\"] = \"Daesik\"\n",
        "dic[\"town\"] = \"Yongin city\"\n",
        "dic[\"job\"] = \"Assistant professor\"\n",
        "print (dic)"
      ],
      "metadata": {
        "colab": {
          "base_uri": "https://localhost:8080/"
        },
        "id": "R-2sNecHaxK8",
        "outputId": "778c4927-c00f-49c1-c548-1911a97ba284"
      },
      "execution_count": null,
      "outputs": [
        {
          "output_type": "stream",
          "name": "stdout",
          "text": [
            "{'name': 'Daesik', 'town': 'Yongin city', 'job': 'Assistant professor'}\n"
          ]
        }
      ]
    },
    {
      "cell_type": "code",
      "source": [
        "class Student:\n",
        "  # 생성자\n",
        "   def __init__(self,name):\n",
        "       self.name = name\n",
        "  # 메써드\n",
        "   def study(self, hard=False):\n",
        "     if hard:\n",
        "      print (\"%s 학생은 열심히 공부합니다.\" %self.name)\n",
        "     else:\n",
        "      print (\"%s 학생은 공부합니다.\" %self.name)\n",
        "s = Student('Daesik')\n",
        "s.study()\n",
        "s.study(hard=True)\n"
      ],
      "metadata": {
        "colab": {
          "base_uri": "https://localhost:8080/"
        },
        "id": "i4HUNTreaxTB",
        "outputId": "99a75d9b-408b-42e2-814b-e5dbbc9e370d"
      },
      "execution_count": null,
      "outputs": [
        {
          "output_type": "stream",
          "name": "stdout",
          "text": [
            "Daesik 학생은 공부합니다.\n",
            "Daesik 학생은 열심히 공부합니다.\n"
          ]
        }
      ]
    },
    {
      "cell_type": "code",
      "source": [
        "import numpy as np\n",
        "\n",
        "def print_val(x):\n",
        "  print (\"Type:\", type(x))\n",
        "  print (\"Shape:\", x.shape)\n",
        "  print (\"값:\\n\",x)\n",
        "  print (\"\")\n",
        "\n",
        "x = np.array([1,2,3])\n",
        "print_val(x)\n",
        "\n",
        "x[0] = 5\n",
        "print_val(x)\n",
        "\n",
        "a = np.random.random((4,4))\n",
        "print_val(a)\n",
        "\n",
        "a = np.random.randn(4,4)\n",
        "print_val(a)\n",
        "\n",
        "a = np.array([[1,2,3,4],[5,6,7,8],[9,10,11,12]])\n",
        "print_val(a)\n",
        "\n",
        "b= a[:2, 1:3] #행 0~1 , 열 1~2\n",
        "print_val(b)\n",
        "\n",
        "# 행렬의 n번째 행 얻기\n",
        "\n",
        "row1 = a[1,:]\n",
        "print_val(row1)\n",
        "\n",
        "m1 = np.array([[1,2],[3,4]], dtype=np.float64)\n",
        "m2 = np.array([[5,6],[7,8]], dtype=np.float64)\n",
        "\n",
        "#행렬의 합\n",
        "print_val(m1+m2)\n",
        "print_val(np.add(m1,m2))\n",
        "\n",
        "#행렬의 차\n",
        "print_val(m1-m2)\n",
        "print_val(np.subtract(m1,m2))\n",
        "\n",
        "#행렬의 곱\n",
        "print_val(m1*m2)\n",
        "print_val(np.multiply(m1,m2))\n",
        "\n",
        "#행렬의 나누기\n",
        "print_val(m1/m2)\n",
        "print_val(np.divide(m1,m2))\n",
        "\n",
        "#행렬의 제곱근\n",
        "print_val(np.sqrt(m1))\n",
        "\n",
        "\n",
        "\n",
        "m1 = np.array([[1,2],[3,4]])\n",
        "m2 = np.array([[5,6],[7,8]])\n",
        "v1 = np.array([9,10])\n",
        "v2 = np.array([11,12])\n",
        "\n",
        "print_val(m1)\n",
        "print_val(m2)\n",
        "print_val(v1)\n",
        "print_val(v2)\n",
        "\n",
        "#벡터-벡터 연산\n",
        "\n",
        "print_val(v1.dot(v2))\n",
        "print_val(np.dot(v1,v2))\n",
        "\n",
        "#벡터-행렬 연산\n",
        "\n",
        "print_val(m1.dot(v1))\n",
        "print_val(np.dot(m1,v1))\n",
        "\n",
        "#행렬-행렬 연산\n",
        "\n",
        "print_val(m1.dot(m2))\n",
        "print_val(np.dot(m1,m2))\n",
        "\n",
        "#전치 행렬(transpose)\n",
        "\n",
        "print_val(m1)\n",
        "print_val(m1.T)"
      ],
      "metadata": {
        "colab": {
          "base_uri": "https://localhost:8080/"
        },
        "id": "3AemxZkHqTjs",
        "outputId": "0e649d4c-d65c-4261-f9aa-5226caa2bf39"
      },
      "execution_count": 20,
      "outputs": [
        {
          "output_type": "stream",
          "name": "stdout",
          "text": [
            "Type: <class 'numpy.ndarray'>\n",
            "Shape: (3,)\n",
            "값:\n",
            " [1 2 3]\n",
            "\n",
            "Type: <class 'numpy.ndarray'>\n",
            "Shape: (3,)\n",
            "값:\n",
            " [5 2 3]\n",
            "\n",
            "Type: <class 'numpy.ndarray'>\n",
            "Shape: (4, 4)\n",
            "값:\n",
            " [[0.85754034 0.49417398 0.23774592 0.66581478]\n",
            " [0.71685604 0.19145774 0.01505943 0.76507053]\n",
            " [0.4929678  0.34767154 0.59634752 0.66785245]\n",
            " [0.78081193 0.7485266  0.78437209 0.14576091]]\n",
            "\n",
            "Type: <class 'numpy.ndarray'>\n",
            "Shape: (4, 4)\n",
            "값:\n",
            " [[ 0.00208966  0.71809845  1.75148545 -0.07920939]\n",
            " [-1.90837698 -0.02205875  0.70340292  1.04988093]\n",
            " [ 0.83637462 -1.3998706  -0.75399063  1.10643414]\n",
            " [ 0.74720055  0.43070766  0.60873136  1.03814678]]\n",
            "\n",
            "Type: <class 'numpy.ndarray'>\n",
            "Shape: (3, 4)\n",
            "값:\n",
            " [[ 1  2  3  4]\n",
            " [ 5  6  7  8]\n",
            " [ 9 10 11 12]]\n",
            "\n",
            "Type: <class 'numpy.ndarray'>\n",
            "Shape: (2, 2)\n",
            "값:\n",
            " [[2 3]\n",
            " [6 7]]\n",
            "\n",
            "Type: <class 'numpy.ndarray'>\n",
            "Shape: (4,)\n",
            "값:\n",
            " [5 6 7 8]\n",
            "\n",
            "Type: <class 'numpy.ndarray'>\n",
            "Shape: (2, 2)\n",
            "값:\n",
            " [[ 6.  8.]\n",
            " [10. 12.]]\n",
            "\n",
            "Type: <class 'numpy.ndarray'>\n",
            "Shape: (2, 2)\n",
            "값:\n",
            " [[ 6.  8.]\n",
            " [10. 12.]]\n",
            "\n",
            "Type: <class 'numpy.ndarray'>\n",
            "Shape: (2, 2)\n",
            "값:\n",
            " [[-4. -4.]\n",
            " [-4. -4.]]\n",
            "\n",
            "Type: <class 'numpy.ndarray'>\n",
            "Shape: (2, 2)\n",
            "값:\n",
            " [[-4. -4.]\n",
            " [-4. -4.]]\n",
            "\n",
            "Type: <class 'numpy.ndarray'>\n",
            "Shape: (2, 2)\n",
            "값:\n",
            " [[ 5. 12.]\n",
            " [21. 32.]]\n",
            "\n",
            "Type: <class 'numpy.ndarray'>\n",
            "Shape: (2, 2)\n",
            "값:\n",
            " [[ 5. 12.]\n",
            " [21. 32.]]\n",
            "\n",
            "Type: <class 'numpy.ndarray'>\n",
            "Shape: (2, 2)\n",
            "값:\n",
            " [[0.2        0.33333333]\n",
            " [0.42857143 0.5       ]]\n",
            "\n",
            "Type: <class 'numpy.ndarray'>\n",
            "Shape: (2, 2)\n",
            "값:\n",
            " [[0.2        0.33333333]\n",
            " [0.42857143 0.5       ]]\n",
            "\n",
            "Type: <class 'numpy.ndarray'>\n",
            "Shape: (2, 2)\n",
            "값:\n",
            " [[1.         1.41421356]\n",
            " [1.73205081 2.        ]]\n",
            "\n",
            "Type: <class 'numpy.ndarray'>\n",
            "Shape: (2, 2)\n",
            "값:\n",
            " [[1 2]\n",
            " [3 4]]\n",
            "\n",
            "Type: <class 'numpy.ndarray'>\n",
            "Shape: (2, 2)\n",
            "값:\n",
            " [[5 6]\n",
            " [7 8]]\n",
            "\n",
            "Type: <class 'numpy.ndarray'>\n",
            "Shape: (2,)\n",
            "값:\n",
            " [ 9 10]\n",
            "\n",
            "Type: <class 'numpy.ndarray'>\n",
            "Shape: (2,)\n",
            "값:\n",
            " [11 12]\n",
            "\n",
            "Type: <class 'numpy.int64'>\n",
            "Shape: ()\n",
            "값:\n",
            " 219\n",
            "\n",
            "Type: <class 'numpy.int64'>\n",
            "Shape: ()\n",
            "값:\n",
            " 219\n",
            "\n",
            "Type: <class 'numpy.ndarray'>\n",
            "Shape: (2,)\n",
            "값:\n",
            " [29 67]\n",
            "\n",
            "Type: <class 'numpy.ndarray'>\n",
            "Shape: (2,)\n",
            "값:\n",
            " [29 67]\n",
            "\n",
            "Type: <class 'numpy.ndarray'>\n",
            "Shape: (2, 2)\n",
            "값:\n",
            " [[19 22]\n",
            " [43 50]]\n",
            "\n",
            "Type: <class 'numpy.ndarray'>\n",
            "Shape: (2, 2)\n",
            "값:\n",
            " [[19 22]\n",
            " [43 50]]\n",
            "\n",
            "Type: <class 'numpy.ndarray'>\n",
            "Shape: (2, 2)\n",
            "값:\n",
            " [[1 2]\n",
            " [3 4]]\n",
            "\n",
            "Type: <class 'numpy.ndarray'>\n",
            "Shape: (2, 2)\n",
            "값:\n",
            " [[1 3]\n",
            " [2 4]]\n",
            "\n"
          ]
        }
      ]
    },
    {
      "cell_type": "code",
      "source": [],
      "metadata": {
        "id": "y_Ku2oGmtdQt"
      },
      "execution_count": null,
      "outputs": []
    },
    {
      "cell_type": "code",
      "source": [],
      "metadata": {
        "id": "MCWWJ-XGtdqa"
      },
      "execution_count": null,
      "outputs": []
    },
    {
      "cell_type": "code",
      "source": [],
      "metadata": {
        "id": "ap4aQ7cWtds-"
      },
      "execution_count": null,
      "outputs": []
    },
    {
      "cell_type": "code",
      "source": [],
      "metadata": {
        "id": "sbx5DBHZtdvS"
      },
      "execution_count": null,
      "outputs": []
    },
    {
      "cell_type": "code",
      "source": [],
      "metadata": {
        "id": "SXFSRmoLtdxX"
      },
      "execution_count": null,
      "outputs": []
    }
  ]
}